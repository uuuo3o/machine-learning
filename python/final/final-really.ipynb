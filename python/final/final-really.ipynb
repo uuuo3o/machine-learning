{
 "cells": [
  {
   "cell_type": "code",
   "execution_count": 11,
   "id": "924a7252",
   "metadata": {},
   "outputs": [],
   "source": [
    "import numpy as np\n",
    "from sklearn.mixture import GaussianMixture\n",
    "import librosa\n",
    "from sklearn.preprocessing import MinMaxScaler\n",
    "import matplotlib.pyplot as plt"
   ]
  },
  {
   "cell_type": "code",
   "execution_count": 12,
   "id": "32367408",
   "metadata": {},
   "outputs": [],
   "source": [
    "def getMfcc(wav):\n",
    "    wav = librosa.util.fix_length(wav, size=16000)\n",
    "    wav = librosa.effects.preemphasis(y=wav, coef=0.97)\n",
    "\n",
    "    mfcc = librosa.feature.mfcc(y=wav,\n",
    "                                sr=16000,\n",
    "                                n_fft=400,\n",
    "                                hop_length=160,\n",
    "                                n_mfcc=100\n",
    "                                )\n",
    "    \n",
    "    mfcc = mfcc[1:]\n",
    "    \n",
    "    scaler = MinMaxScaler()\n",
    "    mfcc = scaler.fit_transform(mfcc)\n",
    "\n",
    "    \n",
    "    return mfcc.T"
   ]
  },
  {
   "cell_type": "code",
   "execution_count": 13,
   "outputs": [],
   "source": [
    "def calculate_train_loss(male_gmm, female_gmm, feml, male):\n",
    "    male_score = male_gmm.score_samples(male)  # score_samples()를 사용하여 각 샘플의 점수를 계산\n",
    "    female_score = female_gmm.score_samples(feml)  # score_samples()를 사용하여 각 샘플의 점수를 계산\n",
    "\n",
    "    train_loss = 0.0\n",
    "\n",
    "    # 예측 결과를 바탕으로 loss 계산 (여기서는 간단히 차이의 제곱을 사용)\n",
    "    for i in range(len(male_score)):\n",
    "        if male_score[i] >= female_score[i]:\n",
    "            train_loss += (male_score[i] - female_score[i]) ** 2\n",
    "        else:\n",
    "            train_loss += (female_score[i] - male_score[i]) ** 2\n",
    "\n",
    "    train_loss /= len(male_score)\n",
    "\n",
    "    return train_loss"
   ],
   "metadata": {
    "collapsed": false
   }
  },
  {
   "cell_type": "code",
   "execution_count": 14,
   "outputs": [],
   "source": [
    "train_data_file = \"fmcc_train.ctl\""
   ],
   "metadata": {
    "collapsed": false
   }
  },
  {
   "cell_type": "code",
   "execution_count": 15,
   "id": "2d0750c7",
   "metadata": {},
   "outputs": [],
   "source": [
    "train_feml = []\n",
    "train_male = []\n",
    "\n",
    "# Train 데이터 남/여 구분\n",
    "with open(\"data/\" + train_data_file, 'r') as file:\n",
    "    for file_path in file:\n",
    "        file_path = file_path.rstrip(\"\\n\")\n",
    "        wav, sr = librosa.load(\"data/wav16k/train/\" + file_path + \".wav\", sr=16000, mono=True)\n",
    "\n",
    "        mfcc = getMfcc(wav)\n",
    "\n",
    "        if file_path[0] == \"F\":\n",
    "            train_feml.extend(mfcc)\n",
    "        else:\n",
    "            train_male.extend(mfcc)\n",
    "\n",
    "feml = np.array(train_feml)\n",
    "male = np.array(train_male)\n",
    "\n",
    "np.save('female.npy', feml)\n",
    "np.save('male.npy', male)"
   ]
  },
  {
   "cell_type": "code",
   "execution_count": 16,
   "id": "eb473a5b",
   "metadata": {},
   "outputs": [],
   "source": [
    "male_gmm = GaussianMixture(n_components=1, random_state=42)\n",
    "female_gmm = GaussianMixture(n_components=1, random_state=42)"
   ]
  },
  {
   "cell_type": "code",
   "execution_count": 17,
   "id": "9b23b5d7",
   "metadata": {},
   "outputs": [],
   "source": [
    "feml = np.load('female.npy')\n",
    "male = np.load('male.npy')"
   ]
  },
  {
   "cell_type": "code",
   "execution_count": 18,
   "id": "a61288e3",
   "metadata": {},
   "outputs": [
    {
     "data": {
      "text/plain": "GaussianMixture(random_state=42)",
      "text/html": "<style>#sk-container-id-2 {color: black;background-color: white;}#sk-container-id-2 pre{padding: 0;}#sk-container-id-2 div.sk-toggleable {background-color: white;}#sk-container-id-2 label.sk-toggleable__label {cursor: pointer;display: block;width: 100%;margin-bottom: 0;padding: 0.3em;box-sizing: border-box;text-align: center;}#sk-container-id-2 label.sk-toggleable__label-arrow:before {content: \"▸\";float: left;margin-right: 0.25em;color: #696969;}#sk-container-id-2 label.sk-toggleable__label-arrow:hover:before {color: black;}#sk-container-id-2 div.sk-estimator:hover label.sk-toggleable__label-arrow:before {color: black;}#sk-container-id-2 div.sk-toggleable__content {max-height: 0;max-width: 0;overflow: hidden;text-align: left;background-color: #f0f8ff;}#sk-container-id-2 div.sk-toggleable__content pre {margin: 0.2em;color: black;border-radius: 0.25em;background-color: #f0f8ff;}#sk-container-id-2 input.sk-toggleable__control:checked~div.sk-toggleable__content {max-height: 200px;max-width: 100%;overflow: auto;}#sk-container-id-2 input.sk-toggleable__control:checked~label.sk-toggleable__label-arrow:before {content: \"▾\";}#sk-container-id-2 div.sk-estimator input.sk-toggleable__control:checked~label.sk-toggleable__label {background-color: #d4ebff;}#sk-container-id-2 div.sk-label input.sk-toggleable__control:checked~label.sk-toggleable__label {background-color: #d4ebff;}#sk-container-id-2 input.sk-hidden--visually {border: 0;clip: rect(1px 1px 1px 1px);clip: rect(1px, 1px, 1px, 1px);height: 1px;margin: -1px;overflow: hidden;padding: 0;position: absolute;width: 1px;}#sk-container-id-2 div.sk-estimator {font-family: monospace;background-color: #f0f8ff;border: 1px dotted black;border-radius: 0.25em;box-sizing: border-box;margin-bottom: 0.5em;}#sk-container-id-2 div.sk-estimator:hover {background-color: #d4ebff;}#sk-container-id-2 div.sk-parallel-item::after {content: \"\";width: 100%;border-bottom: 1px solid gray;flex-grow: 1;}#sk-container-id-2 div.sk-label:hover label.sk-toggleable__label {background-color: #d4ebff;}#sk-container-id-2 div.sk-serial::before {content: \"\";position: absolute;border-left: 1px solid gray;box-sizing: border-box;top: 0;bottom: 0;left: 50%;z-index: 0;}#sk-container-id-2 div.sk-serial {display: flex;flex-direction: column;align-items: center;background-color: white;padding-right: 0.2em;padding-left: 0.2em;position: relative;}#sk-container-id-2 div.sk-item {position: relative;z-index: 1;}#sk-container-id-2 div.sk-parallel {display: flex;align-items: stretch;justify-content: center;background-color: white;position: relative;}#sk-container-id-2 div.sk-item::before, #sk-container-id-2 div.sk-parallel-item::before {content: \"\";position: absolute;border-left: 1px solid gray;box-sizing: border-box;top: 0;bottom: 0;left: 50%;z-index: -1;}#sk-container-id-2 div.sk-parallel-item {display: flex;flex-direction: column;z-index: 1;position: relative;background-color: white;}#sk-container-id-2 div.sk-parallel-item:first-child::after {align-self: flex-end;width: 50%;}#sk-container-id-2 div.sk-parallel-item:last-child::after {align-self: flex-start;width: 50%;}#sk-container-id-2 div.sk-parallel-item:only-child::after {width: 0;}#sk-container-id-2 div.sk-dashed-wrapped {border: 1px dashed gray;margin: 0 0.4em 0.5em 0.4em;box-sizing: border-box;padding-bottom: 0.4em;background-color: white;}#sk-container-id-2 div.sk-label label {font-family: monospace;font-weight: bold;display: inline-block;line-height: 1.2em;}#sk-container-id-2 div.sk-label-container {text-align: center;}#sk-container-id-2 div.sk-container {/* jupyter's `normalize.less` sets `[hidden] { display: none; }` but bootstrap.min.css set `[hidden] { display: none !important; }` so we also need the `!important` here to be able to override the default hidden behavior on the sphinx rendered scikit-learn.org. See: https://github.com/scikit-learn/scikit-learn/issues/21755 */display: inline-block !important;position: relative;}#sk-container-id-2 div.sk-text-repr-fallback {display: none;}</style><div id=\"sk-container-id-2\" class=\"sk-top-container\"><div class=\"sk-text-repr-fallback\"><pre>GaussianMixture(random_state=42)</pre><b>In a Jupyter environment, please rerun this cell to show the HTML representation or trust the notebook. <br />On GitHub, the HTML representation is unable to render, please try loading this page with nbviewer.org.</b></div><div class=\"sk-container\" hidden><div class=\"sk-item\"><div class=\"sk-estimator sk-toggleable\"><input class=\"sk-toggleable__control sk-hidden--visually\" id=\"sk-estimator-id-2\" type=\"checkbox\" checked><label for=\"sk-estimator-id-2\" class=\"sk-toggleable__label sk-toggleable__label-arrow\">GaussianMixture</label><div class=\"sk-toggleable__content\"><pre>GaussianMixture(random_state=42)</pre></div></div></div></div></div>"
     },
     "execution_count": 18,
     "metadata": {},
     "output_type": "execute_result"
    }
   ],
   "source": [
    "male_gmm.fit(male)\n",
    "female_gmm.fit(feml)"
   ]
  },
  {
   "cell_type": "code",
   "execution_count": 19,
   "id": "fad90737",
   "metadata": {},
   "outputs": [
    {
     "name": "stdout",
     "output_type": "stream",
     "text": [
      "87.33333333333333\n",
      "786\n"
     ]
    }
   ],
   "source": [
    "rate = 0\n",
    "\n",
    "with open(\"data/fmcc_test_ref.txt\", 'r') as file:\n",
    "    for file_path in file:\n",
    "        file_path = file_path.rstrip(\"\\n\")\n",
    "\n",
    "        file_path, gender = file_path.split()\n",
    "\n",
    "        wav, frame_rate = librosa.load(\"data/wav16k/test/\" + file_path + \".wav\",\n",
    "                                       sr=16000, mono=True)\n",
    "\n",
    "        mfcc = getMfcc(wav)\n",
    "\n",
    "        male_score = male_gmm.score(mfcc)\n",
    "        female_score = female_gmm.score(mfcc)\n",
    "\n",
    "        if gender == \"male\":\n",
    "            if male_score >= female_score:\n",
    "                rate += 1\n",
    "        else:\n",
    "            if male_score <= female_score:\n",
    "                rate += 1\n",
    "\n",
    "print(rate/9)\n",
    "print(rate)"
   ]
  },
  {
   "cell_type": "code",
   "execution_count": 20,
   "outputs": [
    {
     "name": "stdout",
     "output_type": "stream",
     "text": [
      "Epoch 1/10, Train Loss: 1588.70106602774\n",
      "Epoch 2/10, Train Loss: 1588.70106602774\n",
      "Epoch 3/10, Train Loss: 1588.70106602774\n",
      "Epoch 4/10, Train Loss: 1588.70106602774\n",
      "Epoch 5/10, Train Loss: 1588.70106602774\n",
      "Epoch 6/10, Train Loss: 1588.70106602774\n",
      "Epoch 7/10, Train Loss: 1588.70106602774\n",
      "Epoch 8/10, Train Loss: 1588.70106602774\n",
      "Epoch 9/10, Train Loss: 1588.70106602774\n",
      "Epoch 10/10, Train Loss: 1588.70106602774\n"
     ]
    },
    {
     "data": {
      "text/plain": "<Figure size 640x480 with 1 Axes>",
      "image/png": "[encoded data removed]"
     },
     "metadata": {},
     "output_type": "display_data"
    }
   ],
   "source": [
    "train_losses = []\n",
    "num_epochs = 10\n",
    "\n",
    "for epoch in range(num_epochs):\n",
    "    # 모델 학습 코드\n",
    "    male_gmm.fit(male)\n",
    "    female_gmm.fit(feml)\n",
    "\n",
    "    # 매 에포크마다 train loss 계산\n",
    "    train_loss = calculate_train_loss(male_gmm, female_gmm, feml, male)\n",
    "    train_losses.append(train_loss)\n",
    "\n",
    "    # 에포크 출력\n",
    "    print(f\"Epoch {epoch+1}/{num_epochs}, Train Loss: {train_loss}\")\n",
    "\n",
    "# Train loss 그래프 그리기\n",
    "plt.plot(range(1, num_epochs+1), train_losses)\n",
    "plt.xlabel('Epoch')\n",
    "plt.ylabel('Train Loss')\n",
    "plt.title('Train Loss over Epochs')\n",
    "plt.show()"
   ],
   "metadata": {
    "collapsed": false
   }
  }
 ],
 "metadata": {
  "kernelspec": {
   "display_name": "Python 3 (ipykernel)",
   "language": "python",
   "name": "python3"
  },
  "language_info": {
   "codemirror_mode": {
    "name": "ipython",
    "version": 3
   },
   "file_extension": ".py",
   "mimetype": "text/x-python",
   "name": "python",
   "nbconvert_exporter": "python",
   "pygments_lexer": "ipython3",
   "version": "3.9.12"
  }
 },
 "nbformat": 4,
 "nbformat_minor": 5
}
