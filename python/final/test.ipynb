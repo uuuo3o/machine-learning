{
 "cells": [
  {
   "cell_type": "code",
   "execution_count": 5,
   "outputs": [],
   "source": [
    "import numpy as np\n",
    "from sklearn.mixture import GaussianMixture\n",
    "import librosa"
   ],
   "metadata": {
    "collapsed": false
   }
  },
  {
   "cell_type": "code",
   "execution_count": 6,
   "metadata": {
    "collapsed": true
   },
   "outputs": [],
   "source": [
    "class Model:\n",
    "    def __init__(self, parameter):\n",
    "        self.pre_emphasis_coeff = parameter[0]\n",
    "        self.frame_rate = parameter[1]\n",
    "        self.window_size = int(parameter[2] * self.frame_rate / 1000)\n",
    "        self.window_shift = int(parameter[3] * self.frame_rate / 1000)\n",
    "        self.n_mfcc = parameter[4]\n",
    "        self.train_file_name = parameter[5]\n",
    "        self.test_file_name = parameter[6]\n",
    "        self.test_ref_file_name = parameter[7]\n",
    "\n",
    "        self.len_max = 0\n",
    "        self.len_mean = 0\n",
    "\n",
    "        self.gmm = GaussianMixture(n_components=2)\n",
    "\n",
    "    def set_len(self, method=\"mean\"):\n",
    "        with open(\"data/\" + self.train_file_name, 'r') as file:\n",
    "            for file_path in file:\n",
    "                file_path = file_path.rstrip(\"\\n\")\n",
    "\n",
    "                wav, frame_rate = librosa.load(\"data/wav16k/train/\" + file_path + \".wav\", sr=self.frame_rate, mono=True)\n",
    "                self.len_mean += len(wav)\n",
    "                self.len_max = max(self.len_max, len(wav))\n",
    "\n",
    "        self.len_mean //= 10000\n",
    "\n",
    "        if method == \"max\":\n",
    "            self.target_length = self.len_max\n",
    "        elif method == \"mean\":\n",
    "            self.target_length = self.len_mean\n",
    "\n",
    "    def fit(self):\n",
    "        X_train = []\n",
    "        with open(\"data/\" + self.train_file_name, 'r') as file:\n",
    "            for file_path in file:\n",
    "                file_path = file_path.rstrip(\"\\n\")\n",
    "                wav, frame_rate = librosa.load(\"data/wav16k/train/\" + file_path + \".wav\", sr=self.frame_rate, mono=True)\n",
    "\n",
    "                if len(wav) < self.target_length:\n",
    "                    padding = np.zeros(self.target_length - len(wav))\n",
    "                    wav = np.concatenate([wav, padding])\n",
    "                else:\n",
    "                    wav = wav[:self.target_length]\n",
    "\n",
    "                pre_emphasis = self.pre_emphasis_coeff\n",
    "                wav = librosa.effects.preemphasis(wav, coef=pre_emphasis)\n",
    "\n",
    "                n_fft = 400\n",
    "                hop_length = 160\n",
    "                n_mels = 40\n",
    "\n",
    "                mel_spec = librosa.feature.melspectrogram(y=wav, sr=frame_rate, n_fft=n_fft, hop_length=hop_length, n_mels=n_mels)\n",
    "                log_mel_spec = librosa.power_to_db(mel_spec, ref=np.max)\n",
    "\n",
    "                n_mfcc = 40\n",
    "                mfcc = librosa.feature.mfcc(S=log_mel_spec, n_mfcc=n_mfcc)\n",
    "                mfcc = (mfcc - np.mean(mfcc)) / np.std(mfcc)\n",
    "\n",
    "                X_train.extend(mfcc.T)\n",
    "\n",
    "        X_train = np.array(X_train)\n",
    "        self.gmm.fit(X_train)\n",
    "\n",
    "    def predict(self):\n",
    "        X_test = []\n",
    "        with open(\"data/\" + self.test_file_name, 'r') as file:\n",
    "            for file_path in file:\n",
    "                file_path = file_path.rstrip(\"\\n\")\n",
    "\n",
    "                wav, frame_rate = librosa.load(\"data/wav16k/test/\" + file_path + \".wav\", sr=self.frame_rate, mono=True)\n",
    "\n",
    "                if len(wav) < self.target_length:\n",
    "                    padding = np.zeros(self.target_length - len(wav))\n",
    "                    wav = np.concatenate([wav, padding])\n",
    "                else:\n",
    "                    wav = wav[:self.target_length]\n",
    "\n",
    "                pre_emphasis = self.pre_emphasis_coeff\n",
    "                wav = librosa.effects.preemphasis(wav, coef=pre_emphasis)\n",
    "\n",
    "                n_fft = 400\n",
    "                hop_length = 160\n",
    "                n_mels = 40\n",
    "\n",
    "                mel_spec = librosa.feature.melspectrogram(y=wav, sr=frame_rate, n_fft=n_fft, hop_length=hop_length, n_mels=n_mels)\n",
    "                log_mel_spec = librosa.power_to_db(mel_spec, ref=np.max)\n",
    "\n",
    "                n_mfcc = 40\n",
    "                mfcc = librosa.feature.mfcc(S=log_mel_spec, n_mfcc=n_mfcc)\n",
    "                mfcc = (mfcc - np.mean(mfcc)) / np.std(mfcc)\n",
    "\n",
    "                X_test.append(mfcc.T)\n",
    "\n",
    "        X_test = np.array(X_test)\n",
    "        rate = 0\n",
    "        with open(\"data/\" + self.test_ref_file_name, 'r') as file:\n",
    "            for i, txt in enumerate(file):\n",
    "                _, gender = txt.rstrip(\"\\n\").split()\n",
    "\n",
    "                labels = self.gmm.predict(X_test[i])\n",
    "                r = sum(labels) / len(labels)\n",
    "\n",
    "                if gender == \"male\":\n",
    "                    if r >= 0.5:\n",
    "                        rate += 1\n",
    "                else:\n",
    "                    if r < 0.5:\n",
    "                        rate += 1\n",
    "\n",
    "        print(rate / 1000)"
   ]
  },
  {
   "cell_type": "code",
   "execution_count": 7,
   "outputs": [],
   "source": [
    "parameters = [[0.97],\n",
    "              [16000],\n",
    "              [25],\n",
    "              [10],\n",
    "              list(range(10, 101)),\n",
    "              [\"fmcc_train.ctl\"],\n",
    "              [\"fmcc_test.ctl\"],\n",
    "              [\"fmcc_test_ref.txt\"]]"
   ],
   "metadata": {
    "collapsed": false
   }
  },
  {
   "cell_type": "code",
   "execution_count": 8,
   "outputs": [
    {
     "name": "stdout",
     "output_type": "stream",
     "text": [
      "n_mfcc:40\n",
      "0.5\n"
     ]
    }
   ],
   "source": [
    "for i in range(40, 41):\n",
    "    parameter = [0.97,\n",
    "                 16000,\n",
    "                 25,\n",
    "                 i,\n",
    "                 100,\n",
    "                 \"fmcc_train.ctl\",\n",
    "                 \"fmcc_test.ctl\",\n",
    "                 \"fmcc_test_ref.txt\"]\n",
    "\n",
    "    print(\"n_mfcc:\" + str(i))\n",
    "    model = Model(parameter)\n",
    "    model.set_len(\"mean\")\n",
    "    model.fit()\n",
    "    model.predict()"
   ],
   "metadata": {
    "collapsed": false
   }
  }
 ],
 "metadata": {
  "kernelspec": {
   "display_name": "Python 3",
   "language": "python",
   "name": "python3"
  },
  "language_info": {
   "codemirror_mode": {
    "name": "ipython",
    "version": 2
   },
   "file_extension": ".py",
   "mimetype": "text/x-python",
   "name": "python",
   "nbconvert_exporter": "python",
   "pygments_lexer": "ipython2",
   "version": "2.7.6"
  }
 },
 "nbformat": 4,
 "nbformat_minor": 0
}
