{
 "cells": [
  {
   "cell_type": "code",
   "execution_count": 4,
   "outputs": [],
   "source": [
    "import numpy as np\n",
    "from sklearn.mixture import GaussianMixture\n",
    "import librosa\n",
    "from sklearn.decomposition import PCA\n",
    "import os"
   ],
   "metadata": {
    "collapsed": false
   }
  },
  {
   "cell_type": "code",
   "execution_count": 10,
   "outputs": [],
   "source": [
    "def getMfcc(wav):\n",
    "        mfcc = librosa.feature.mfcc(y=wav,\n",
    "                                    sr=16000,\n",
    "                                    # n_fft=400,\n",
    "                                    # hop_length=32,\n",
    "                                    # n_mfcc=40\n",
    "                                    )\n",
    "\n",
    "\n",
    "        # min_val = np.min(mfcc)\n",
    "        # max_val = np.max(mfcc)\n",
    "        # mfcc = (mfcc - min_val) / (max_val - min_val)\n",
    "\n",
    "\n",
    "        n_components = 1  # 축소할 차원 수 지정\n",
    "        pca = PCA(n_components=n_components)\n",
    "\n",
    "\n",
    "        mfcc = pca.fit_transform(mfcc)\n",
    "\n",
    "        min_val = np.min(mfcc)\n",
    "        max_val = np.max(mfcc)\n",
    "        mfcc = (mfcc - min_val) / (max_val - min_val)\n",
    "\n",
    "        return mfcc.T"
   ],
   "metadata": {
    "collapsed": false
   }
  },
  {
   "cell_type": "code",
   "execution_count": 11,
   "outputs": [],
   "source": [
    "# 음성 데이터 폴더 경로\n",
    "train_data_file = 'fmcc_train.ctl'\n",
    "test_data_file = 'fmcc_test.ctl'\n",
    "test_label_file = 'fmcc_test_ref.txt'\n",
    "\n",
    "# gmm = GaussianMixture(n_components=2, random_state=42, max_iter=10)"
   ],
   "metadata": {
    "collapsed": false
   }
  },
  {
   "cell_type": "code",
   "execution_count": 12,
   "outputs": [],
   "source": [
    "X_train = []\n",
    "X_test = []\n",
    "test_labels = []\n",
    "\n",
    "# Train 데이터\n",
    "with open(\"data/\" + train_data_file, 'r') as file:\n",
    "    for file_path in file:\n",
    "        file_path = file_path.rstrip(\"\\n\")\n",
    "        wav, frame = librosa.load(\"data/wav16k/train/\" + file_path + \".wav\", sr=16000, mono=True)\n",
    "        mfcc = getMfcc(wav)\n",
    "        X_train.append(mfcc)\n",
    "\n",
    "\n",
    "\n",
    "# Test 데이터\n",
    "with open(\"data/\" + test_data_file, 'r') as file:\n",
    "    for file_path in file:\n",
    "        file_path = file_path.rstrip(\"\\n\")\n",
    "        wav, frame = librosa.load(\"data/wav16k/test/\" + file_path + \".wav\", sr=16000, mono=True)\n",
    "        mfcc = getMfcc(wav)\n",
    "        X_test.append(mfcc)\n",
    "\n",
    "# Test 데이터의 정답 레이블을 읽어와 저장\n",
    "with open(\"data/\" + test_label_file, 'r') as file:\n",
    "    for i, txt in enumerate(file):\n",
    "        _, labels = txt.rstrip(\"\\n\").split()\n",
    "\n",
    "        if labels == \"feml\":\n",
    "            labels = 0\n",
    "        else: labels = 1\n",
    "\n",
    "        test_labels.append(labels)"
   ],
   "metadata": {
    "collapsed": false
   }
  },
  {
   "cell_type": "code",
   "execution_count": 13,
   "outputs": [],
   "source": [
    "# from sklearn.utils.testing import ignore_warnings\n",
    "import warnings\n",
    "from sklearn.exceptions import ConvergenceWarning\n",
    "\n",
    "# 데이터를 NumPy 배열로 변환\n",
    "X_train = np.concatenate(X_train, axis=0)\n",
    "X_test = np.concatenate(X_test, axis=0)\n",
    "test_labels = np.array(test_labels)"
   ],
   "metadata": {
    "collapsed": false
   }
  },
  {
   "cell_type": "code",
   "execution_count": 14,
   "outputs": [
    {
     "name": "stdout",
     "output_type": "stream",
     "text": [
      "Accuracy: 52.33%\n"
     ]
    }
   ],
   "source": [
    "# GMM 모델 학습\n",
    "with warnings.catch_warnings():\n",
    "        warnings.filterwarnings(\"ignore\", category=ConvergenceWarning)\n",
    "        model = GaussianMixture(n_components=2, init_params='random', random_state=0, tol=1e-9, max_iter=20)\n",
    "        model.fit(X_train)\n",
    "\n",
    "# Test 데이터셋에 대한 예측\n",
    "predictions = model.predict(X_test)\n",
    "\n",
    "# 정답 맞춘 비율 계산\n",
    "accuracy = np.mean(predictions == test_labels.reshape(-1))\n",
    "# print(predictions)\n",
    "# print(test_labels.reshape(-1))\n",
    "\n",
    "# 결과 출력\n",
    "print(f\"Accuracy: {accuracy * 100:.2f}%\")"
   ],
   "metadata": {
    "collapsed": false
   }
  },
  {
   "cell_type": "code",
   "execution_count": 14,
   "outputs": [],
   "source": [],
   "metadata": {
    "collapsed": false
   }
  },
  {
   "cell_type": "code",
   "execution_count": null,
   "outputs": [],
   "source": [],
   "metadata": {
    "collapsed": false
   }
  }
 ],
 "metadata": {
  "kernelspec": {
   "display_name": "Python 3",
   "language": "python",
   "name": "python3"
  },
  "language_info": {
   "codemirror_mode": {
    "name": "ipython",
    "version": 2
   },
   "file_extension": ".py",
   "mimetype": "text/x-python",
   "name": "python",
   "nbconvert_exporter": "python",
   "pygments_lexer": "ipython2",
   "version": "2.7.6"
  }
 },
 "nbformat": 4,
 "nbformat_minor": 0
}
